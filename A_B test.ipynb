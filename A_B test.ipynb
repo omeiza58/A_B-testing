{
 "cells": [
  {
   "cell_type": "code",
   "execution_count": 14,
   "id": "be202ee7",
   "metadata": {},
   "outputs": [],
   "source": [
    "#Import libraries\n",
    "\n",
    "import pandas as pd\n",
    "import seaborn as sn\n",
    "from scipy.stats import ttest_ind\n",
    "\n",
    "df = pd.read_csv(\"ab_data.csv\")"
   ]
  },
  {
   "cell_type": "code",
   "execution_count": 15,
   "id": "a26a04f6",
   "metadata": {},
   "outputs": [
    {
     "data": {
      "text/html": [
       "<div>\n",
       "<style scoped>\n",
       "    .dataframe tbody tr th:only-of-type {\n",
       "        vertical-align: middle;\n",
       "    }\n",
       "\n",
       "    .dataframe tbody tr th {\n",
       "        vertical-align: top;\n",
       "    }\n",
       "\n",
       "    .dataframe thead th {\n",
       "        text-align: right;\n",
       "    }\n",
       "</style>\n",
       "<table border=\"1\" class=\"dataframe\">\n",
       "  <thead>\n",
       "    <tr style=\"text-align: right;\">\n",
       "      <th></th>\n",
       "      <th>user_id</th>\n",
       "      <th>timestamp</th>\n",
       "      <th>group</th>\n",
       "      <th>landing_page</th>\n",
       "      <th>converted</th>\n",
       "    </tr>\n",
       "  </thead>\n",
       "  <tbody>\n",
       "    <tr>\n",
       "      <th>0</th>\n",
       "      <td>851104</td>\n",
       "      <td>11:48.6</td>\n",
       "      <td>control</td>\n",
       "      <td>old_page</td>\n",
       "      <td>0</td>\n",
       "    </tr>\n",
       "    <tr>\n",
       "      <th>1</th>\n",
       "      <td>804228</td>\n",
       "      <td>01:45.2</td>\n",
       "      <td>control</td>\n",
       "      <td>old_page</td>\n",
       "      <td>0</td>\n",
       "    </tr>\n",
       "    <tr>\n",
       "      <th>2</th>\n",
       "      <td>661590</td>\n",
       "      <td>55:06.2</td>\n",
       "      <td>treatment</td>\n",
       "      <td>new_page</td>\n",
       "      <td>0</td>\n",
       "    </tr>\n",
       "    <tr>\n",
       "      <th>3</th>\n",
       "      <td>853541</td>\n",
       "      <td>28:03.1</td>\n",
       "      <td>treatment</td>\n",
       "      <td>new_page</td>\n",
       "      <td>0</td>\n",
       "    </tr>\n",
       "    <tr>\n",
       "      <th>4</th>\n",
       "      <td>864975</td>\n",
       "      <td>52:26.2</td>\n",
       "      <td>control</td>\n",
       "      <td>old_page</td>\n",
       "      <td>1</td>\n",
       "    </tr>\n",
       "  </tbody>\n",
       "</table>\n",
       "</div>"
      ],
      "text/plain": [
       "   user_id timestamp      group landing_page  converted\n",
       "0   851104   11:48.6    control     old_page          0\n",
       "1   804228   01:45.2    control     old_page          0\n",
       "2   661590   55:06.2  treatment     new_page          0\n",
       "3   853541   28:03.1  treatment     new_page          0\n",
       "4   864975   52:26.2    control     old_page          1"
      ]
     },
     "execution_count": 15,
     "metadata": {},
     "output_type": "execute_result"
    }
   ],
   "source": [
    "# Display my data set to get a look\n",
    "\n",
    "df.head(5)"
   ]
  },
  {
   "cell_type": "code",
   "execution_count": 16,
   "id": "7f48051e",
   "metadata": {},
   "outputs": [],
   "source": [
    "# First we are going to clean the data make sure there are no missing values"
   ]
  },
  {
   "cell_type": "code",
   "execution_count": 17,
   "id": "bcef8d59",
   "metadata": {},
   "outputs": [],
   "source": [
    "#FIRST STEP DROPPING MISSING VALUES"
   ]
  },
  {
   "cell_type": "code",
   "execution_count": 18,
   "id": "b9b409c8",
   "metadata": {},
   "outputs": [],
   "source": [
    "#print(df.column == \"NaN\") ignore"
   ]
  },
  {
   "cell_type": "code",
   "execution_count": 19,
   "id": "1211b811",
   "metadata": {},
   "outputs": [],
   "source": [
    "# Display the count of missing values in each column\n",
    "missing_values_count = df.isnull().sum()"
   ]
  },
  {
   "cell_type": "code",
   "execution_count": 20,
   "id": "78582d75",
   "metadata": {},
   "outputs": [],
   "source": [
    "# Filter columns with missing values\n",
    "columns_with_missing_values = missing_values_count[missing_values_count > 0]"
   ]
  },
  {
   "cell_type": "code",
   "execution_count": 21,
   "id": "4a84c8f1",
   "metadata": {},
   "outputs": [
    {
     "name": "stdout",
     "output_type": "stream",
     "text": [
      "Series([], dtype: int64)\n"
     ]
    }
   ],
   "source": [
    "# Display the columns with missing values\n",
    "print(columns_with_missing_values)"
   ]
  },
  {
   "cell_type": "code",
   "execution_count": 22,
   "id": "f6da0ddb",
   "metadata": {},
   "outputs": [],
   "source": [
    "#okay the above results mean that we have no missing values"
   ]
  },
  {
   "cell_type": "code",
   "execution_count": 23,
   "id": "149e9e7c",
   "metadata": {},
   "outputs": [],
   "source": [
    "#NOW WE CAN PROCEED TO THE AB TESTING PROPER\n"
   ]
  },
  {
   "cell_type": "code",
   "execution_count": 24,
   "id": "b9762143",
   "metadata": {},
   "outputs": [],
   "source": [
    "#STEP 1; GROUPING THE DATA using the group column\n",
    "group_a_data = df[df['group'] == 'control']\n",
    "group_b_data = df[df['group'] == 'treatment']"
   ]
  },
  {
   "cell_type": "code",
   "execution_count": 25,
   "id": "9dfba9f7",
   "metadata": {},
   "outputs": [
    {
     "name": "stdout",
     "output_type": "stream",
     "text": [
      "Conversion Rate for Group A: 0.12039917935897611\n",
      "Conversion Rate for Group B: 0.11891796466546259\n"
     ]
    }
   ],
   "source": [
    "# Calculate Key Metrics (Conversion rate)\n",
    "\n",
    "conversion_rate_group_a = group_a_data['converted'].mean()\n",
    "conversion_rate_group_b = group_b_data['converted'].mean()\n",
    "print(\"Conversion Rate for Group A:\", conversion_rate_group_a)\n",
    "print(\"Conversion Rate for Group B:\", conversion_rate_group_b)"
   ]
  },
  {
   "cell_type": "code",
   "execution_count": 26,
   "id": "e47b1ec5",
   "metadata": {},
   "outputs": [
    {
     "name": "stdout",
     "output_type": "stream",
     "text": [
      "T-statistic: 1.2382786399119168\n",
      "P-value: 0.21561374826591398\n"
     ]
    }
   ],
   "source": [
    "#now we perform hypothesis testing, t_test and p_test\n",
    "t_stat, p_value = ttest_ind(group_a_data['converted'], group_b_data['converted'])\n",
    "print(\"T-statistic:\", t_stat)\n",
    "print(\"P-value:\", p_value)"
   ]
  },
  {
   "cell_type": "code",
   "execution_count": null,
   "id": "489b1f9f",
   "metadata": {},
   "outputs": [],
   "source": [
    "# INTERPRETE THE RESULTS \n",
    "# FROM SINCE THE P-VALUE IS GREATER THAN THE SET VALUE OF 0.05 WE HAVE FAILED TO REJECT THE NULL HYPOTHESIS AND THUS WE...\n",
    "# SAY THAT THERE IS NO SIGNIFICANT STATISTICAL DIFFERENCE BETWEEN THE TWO\n",
    "# As for the T- stats since the value is a positive value it means the mean of group a is higher than the mean of group b"
   ]
  },
  {
   "cell_type": "code",
   "execution_count": null,
   "id": "de56239d",
   "metadata": {},
   "outputs": [],
   "source": []
  }
 ],
 "metadata": {
  "kernelspec": {
   "display_name": "Python 3 (ipykernel)",
   "language": "python",
   "name": "python3"
  },
  "language_info": {
   "codemirror_mode": {
    "name": "ipython",
    "version": 3
   },
   "file_extension": ".py",
   "mimetype": "text/x-python",
   "name": "python",
   "nbconvert_exporter": "python",
   "pygments_lexer": "ipython3",
   "version": "3.9.7"
  }
 },
 "nbformat": 4,
 "nbformat_minor": 5
}
